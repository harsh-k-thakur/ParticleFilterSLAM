{
 "cells": [
  {
   "cell_type": "markdown",
   "id": "fb280ab0",
   "metadata": {},
   "source": [
    "Import necessary items"
   ]
  },
  {
   "cell_type": "code",
   "execution_count": 36,
   "id": "f1511fd0",
   "metadata": {},
   "outputs": [],
   "source": [
    "import numpy as np\n",
    "import yaml\n",
    "from pr2_utils import *"
   ]
  },
  {
   "cell_type": "code",
   "execution_count": 37,
   "id": "4b22df49",
   "metadata": {},
   "outputs": [],
   "source": [
    "def initialize_particles(N):\n",
    "    '''\n",
    "        There will be two matrix\n",
    "        1. Initial Particle set mu=[0, 0, 0]T. This will be Nx3 in size\n",
    "        2. Initial Weight Vector alpha = [1/N]. This will be Nx1 in size\n",
    "    '''\n",
    "    mu = np.zeros((N, 3))\n",
    "    alpha = np.zeros((N, 1))\n",
    "    \n",
    "    return mu, alpha    "
   ]
  },
  {
   "cell_type": "code",
   "execution_count": 38,
   "id": "3b03c777",
   "metadata": {},
   "outputs": [],
   "source": [
    "mu, alpha = initialize_particles(2)"
   ]
  },
  {
   "cell_type": "markdown",
   "id": "34b06073",
   "metadata": {},
   "source": [
    "## Lidar Hyper-parameters\n",
    "\n",
    "    Hyperparameters of Lidar\n",
    "    FOV: 190 (degree)\n",
    "    Start angle: -5 (degree)\n",
    "    End angle: 185 (degree)\n",
    "    Angular resolution: 0.666 (degree)\n",
    "    Max range: 80 (meter)\n",
    "    \n",
    "LiDAR rays with value 0.0 represent infinite range observations.\n",
    "\n",
    "This means there is no obstruction within the range of 80 meters"
   ]
  },
  {
   "cell_type": "code",
   "execution_count": 39,
   "id": "0eb64d2a",
   "metadata": {},
   "outputs": [],
   "source": [
    "'''\n",
    "This function is used to load the lidar data\n",
    "This lidar data is generally present in \"data/sensor_data/lidar.csv\"\n",
    "But you pass it as a filename as well\n",
    "\n",
    "Input :- File Location\n",
    "Output :- Returns the angle and lidar data\n",
    "'''\n",
    "def get_lidar_data(filename=\"data/sensor_data/lidar.csv\"):\n",
    "    _, lidar_data = read_data_from_csv(filename)\n",
    "    angle = np.linspace(-5, 185, 286) / 180 * np.pi\n",
    "    # print(lidar_data.shape)\n",
    "    \n",
    "    return angle, lidar_data"
   ]
  },
  {
   "cell_type": "code",
   "execution_count": 40,
   "id": "80ab6a5e",
   "metadata": {},
   "outputs": [],
   "source": [
    "angle, lidar_data = get_lidar_data()"
   ]
  },
  {
   "cell_type": "code",
   "execution_count": 44,
   "id": "8547530a",
   "metadata": {},
   "outputs": [
    {
     "data": {
      "text/plain": [
       "array([30.3900013 , 30.64800072, 32.20600128, 32.18200302, 32.9260025 ,\n",
       "       33.36100006, 37.93900299, 33.07800293, 37.73400116, 38.01000214,\n",
       "       38.24700165, 31.7120018 , 39.50699997, 30.74700165, 30.64800072,\n",
       "       25.32400131,  0.        , 35.22500229,  9.61900043,  9.91500092,\n",
       "       25.65300179,  9.64000034,  9.66100025, 25.40100098, 24.10700035,\n",
       "       23.97100067, 28.42100143,  0.        ,  0.        , 36.10600281,\n",
       "       41.43200302,  0.        ,  0.        ,  0.        ,  0.        ,\n",
       "       26.91000175,  0.        ,  0.        ,  0.        ,  0.        ,\n",
       "        0.        ,  0.        , 10.7310009 , 10.42300034, 10.26100063,\n",
       "       10.52100086, 38.75900269,  0.        ,  0.        ,  0.        ,\n",
       "        0.        ,  0.        , 60.24000168,  0.        ,  0.        ,\n",
       "        0.        , 56.60200119, 56.50200272, 55.62800217,  0.        ,\n",
       "       53.64400101, 53.93600082, 54.42000198,  0.        , 55.44700241,\n",
       "       55.98700333, 56.53800201, 57.13300323, 57.7100029 , 58.34800339,\n",
       "       58.97500229, 59.63500214, 60.34200287, 61.04600143, 61.78000259,\n",
       "        0.        ,  0.        ,  0.        ,  0.        ,  0.        ,\n",
       "        0.        ,  0.        ,  0.        ,  0.        ,  0.        ,\n",
       "        0.        ,  0.        ,  0.        ,  0.        ,  0.        ,\n",
       "        0.        ,  0.        ,  0.        ,  0.        ,  0.        ,\n",
       "        0.        ,  0.        ,  0.        ,  0.        ,  0.        ,\n",
       "        0.        ,  0.        ,  0.        ,  0.        ,  0.        ,\n",
       "        0.        ,  0.        ,  0.        ,  0.        ,  0.        ,\n",
       "        0.        ,  0.        ,  0.        ,  0.        ,  0.        ,\n",
       "        0.        ,  0.        ,  0.        ,  0.        ,  0.        ,\n",
       "        0.        ,  0.        ,  0.        ,  0.        ,  0.        ,\n",
       "        0.        ,  0.        ,  0.        ,  0.        ,  0.        ,\n",
       "        0.        ,  0.        ,  0.        ,  0.        ,  0.        ,\n",
       "        0.        ,  0.        ,  0.        ,  0.        ,  0.        ,\n",
       "        0.        ,  0.        ,  0.        ,  0.        ,  0.        ,\n",
       "        0.        ,  0.        ,  0.        ,  0.        ,  0.        ,\n",
       "        0.        ,  0.        ,  0.        ,  0.        ,  0.        ,\n",
       "        0.        ,  0.        ,  0.        ,  0.        ,  0.        ,\n",
       "        0.        ,  0.        ,  0.        ,  0.        ,  0.        ,\n",
       "        0.        ,  0.        ,  0.        ,  0.        ,  0.        ,\n",
       "        0.        ,  0.        ,  0.        ,  0.        ,  0.        ,\n",
       "        0.        ,  0.        ,  9.06400013,  9.10200024,  9.11400032,\n",
       "        6.18900013,  6.18700027,  6.20300007,  6.15300035,  5.00300026,\n",
       "        4.98500013,  5.08900023,  4.46900034,  5.27200031,  5.2670002 ,\n",
       "        4.3300004 ,  4.34700012, 18.44300079,  4.32200003,  4.27900028,\n",
       "        4.35500002,  4.39499998,  4.44200039,  4.47000027,  4.54100037,\n",
       "        4.57200003,  4.64800024,  5.28600025,  5.34500027, 10.78100014,\n",
       "        4.62000036,  4.6590004 ,  4.60600042,  3.84200025,  3.9070003 ,\n",
       "        4.63200045,  4.17500019,  4.15600014,  4.97700024,  4.171     ,\n",
       "        5.08300018,  3.97000027,  3.97500014,  3.91700029,  3.53000021,\n",
       "        4.90100002,  4.87800026,  3.96700025,  3.99000025,  5.20300007,\n",
       "        6.17600012,  6.30700016,  5.15500021,  5.11800003,  3.73900008,\n",
       "        8.38400078,  3.82400012,  3.95100021,  3.80300021,  3.73300028,\n",
       "        3.75100017,  3.79900026, 10.49400043, 10.59400082, 10.50900078,\n",
       "       10.91500092, 10.09400082, 10.15000057, 11.48200035, 10.34900093,\n",
       "       10.0890007 ,  9.18300056,  9.02700043, 11.75600052, 13.46900082,\n",
       "        0.        ,  7.94000053,  7.95400047,  7.94400024,  7.95300055,\n",
       "        8.04900074,  8.02400017,  8.01100063,  7.99000025,  8.21700001,\n",
       "        8.45200062,  8.23700047,  8.1050005 ,  8.37000084,  8.85300064,\n",
       "       11.18000031,  8.30500031,  8.64900017, 11.25300026,  9.64400005,\n",
       "       14.4640007 , 14.45000076, 12.36700058, 11.97100067, 11.64000034,\n",
       "       11.3220005 , 11.03300095, 10.82700062, 10.63700008, 10.38300037,\n",
       "       10.24400043, 10.10400009,  9.97700024,  9.85100079,  9.74100018,\n",
       "        9.59300041])"
      ]
     },
     "execution_count": 44,
     "metadata": {},
     "output_type": "execute_result"
    }
   ],
   "source": [
    "first_lidar_data = lidar_data[0]\n",
    "first_lidar_data"
   ]
  },
  {
   "cell_type": "markdown",
   "id": "c2d09ab1",
   "metadata": {},
   "source": [
    "## Fundamental Parameters of Lidar Sensors\n",
    "\n",
    "Lidar sensor (LMS511) extrinsic calibration parameter from vehicle.\n",
    "\n",
    "    RPY(roll/pitch/yaw = XYZ extrinsic, degree), R(rotation matrix), T(translation matrix)\n",
    "    RPY: [142.759, 0.0584636, 89.9254]\n",
    "    R: [[ 0.00130201,     0.796097,    0.605167]\n",
    "        [   0.999999, -0.000419027, -0.00160026]\n",
    "        [-0.00102038,     0.605169,   -0.796097]\n",
    "        \n",
    "    T: [0.8349, -0.0126869, 1.76416]"
   ]
  },
  {
   "cell_type": "code",
   "execution_count": 16,
   "id": "c4264b34",
   "metadata": {
    "scrolled": true
   },
   "outputs": [
    {
     "name": "stdout",
     "output_type": "stream",
     "text": [
      "[[0.]\n",
      " [0.]]\n"
     ]
    }
   ],
   "source": []
  },
  {
   "cell_type": "code",
   "execution_count": null,
   "id": "2f9bb2e8",
   "metadata": {},
   "outputs": [],
   "source": []
  },
  {
   "cell_type": "code",
   "execution_count": null,
   "id": "601fdc03",
   "metadata": {},
   "outputs": [],
   "source": []
  }
 ],
 "metadata": {
  "kernelspec": {
   "display_name": "Python 3 (ipykernel)",
   "language": "python",
   "name": "python3"
  },
  "language_info": {
   "codemirror_mode": {
    "name": "ipython",
    "version": 3
   },
   "file_extension": ".py",
   "mimetype": "text/x-python",
   "name": "python",
   "nbconvert_exporter": "python",
   "pygments_lexer": "ipython3",
   "version": "3.9.7"
  }
 },
 "nbformat": 4,
 "nbformat_minor": 5
}
